{
 "cells": [
  {
   "cell_type": "code",
   "execution_count": 1,
   "metadata": {},
   "outputs": [
    {
     "name": "stdout",
     "output_type": "stream",
     "text": [
      "Hello\n"
     ]
    }
   ],
   "source": [
    "#6001 : [기초-출력] 출력하기01(설명)(py)\n",
    "print(\"Hello\")"
   ]
  },
  {
   "cell_type": "code",
   "execution_count": 3,
   "metadata": {},
   "outputs": [
    {
     "name": "stdout",
     "output_type": "stream",
     "text": [
      "Hello World\n"
     ]
    }
   ],
   "source": [
    "#6002 : [기초-출력] 출력하기02(설명)(py)\n",
    "print(\"Hello World\")"
   ]
  },
  {
   "cell_type": "code",
   "execution_count": 4,
   "metadata": {},
   "outputs": [
    {
     "name": "stdout",
     "output_type": "stream",
     "text": [
      "Hello\n",
      "World\n"
     ]
    }
   ],
   "source": [
    "#6003 : [기초-출력] 출력하기03(설명)(py)\n",
    "print(\"Hello\") \n",
    "print(\"World\")"
   ]
  },
  {
   "cell_type": "code",
   "execution_count": 5,
   "metadata": {},
   "outputs": [
    {
     "name": "stdout",
     "output_type": "stream",
     "text": [
      "'Hello'\n"
     ]
    }
   ],
   "source": [
    "#6004 : [기초-출력] 출력하기04(설명)(py)\n",
    "print(\"'Hello'\")"
   ]
  },
  {
   "cell_type": "code",
   "execution_count": 6,
   "metadata": {},
   "outputs": [
    {
     "name": "stdout",
     "output_type": "stream",
     "text": [
      "\"Hello World\"\n"
     ]
    }
   ],
   "source": [
    "#6005 : [기초-출력] 출력하기05(설명)(py)\n",
    "print('\\\"Hello World\\\"')"
   ]
  },
  {
   "cell_type": "code",
   "execution_count": 7,
   "metadata": {},
   "outputs": [
    {
     "name": "stdout",
     "output_type": "stream",
     "text": [
      "\"!@#$%^&*()'\n"
     ]
    }
   ],
   "source": [
    "#6006 : [기초-출력] 출력하기06(py)\n",
    "print(\"\\\"!@#$%^&*()\\'\")"
   ]
  },
  {
   "cell_type": "code",
   "execution_count": 8,
   "metadata": {},
   "outputs": [
    {
     "name": "stdout",
     "output_type": "stream",
     "text": [
      "\"C:\\Download\\'hello'.py\"\n"
     ]
    }
   ],
   "source": [
    "#6007 : [기초-출력] 출력하기07(py)\n",
    "print(\"\\\"C:\\Download\\\\'hello'.py\\\"\")"
   ]
  },
  {
   "cell_type": "code",
   "execution_count": 9,
   "metadata": {},
   "outputs": [
    {
     "name": "stdout",
     "output_type": "stream",
     "text": [
      "print(\"Hello\\nWorld\")\n"
     ]
    }
   ],
   "source": [
    "#6008 : [기초-출력] 출력하기08(py)\n",
    "print(\"print\"+\"(\\\"Hello\\\\nWorld\\\")\")"
   ]
  },
  {
   "cell_type": "code",
   "execution_count": 12,
   "metadata": {},
   "outputs": [
    {
     "name": "stdout",
     "output_type": "stream",
     "text": [
      "a\n",
      "a\n"
     ]
    }
   ],
   "source": [
    "#6009 : [기초-입출력] 문자 1개 입력받아 그대로 출력하기(설명)(py)\n",
    "a = input(\"\")\n",
    "print(a)"
   ]
  },
  {
   "cell_type": "code",
   "execution_count": 13,
   "metadata": {},
   "outputs": [
    {
     "name": "stdout",
     "output_type": "stream",
     "text": [
      "5\n",
      "5\n"
     ]
    }
   ],
   "source": [
    "#6010 : [기초-입출력] 정수 1개 입력받아 int로 변환하여 출력하기(설명)(py)\n",
    "a = input(\"\")\n",
    "print(int(a))"
   ]
  },
  {
   "cell_type": "code",
   "execution_count": 14,
   "metadata": {},
   "outputs": [
    {
     "name": "stdout",
     "output_type": "stream",
     "text": [
      "3.415485\n",
      "3.415485\n"
     ]
    }
   ],
   "source": [
    "#6011 : [기초-입출력] 실수 1개 입력받아 변환하여 출력하기(설명)(py)\n",
    "a = input(\"\")\n",
    "print(float(a))"
   ]
  },
  {
   "cell_type": "code",
   "execution_count": 15,
   "metadata": {},
   "outputs": [
    {
     "name": "stdout",
     "output_type": "stream",
     "text": [
      "4\n",
      "2\n",
      "4\n",
      "2\n"
     ]
    }
   ],
   "source": [
    "#6012 : [기초-입출력] 정수 2개 입력받아 그대로 출력하기1(설명)(py)\n",
    "a = input() \n",
    "b = input()\n",
    "print(a)\n",
    "print(b)"
   ]
  },
  {
   "cell_type": "code",
   "execution_count": 17,
   "metadata": {},
   "outputs": [
    {
     "name": "stdout",
     "output_type": "stream",
     "text": [
      "a\n",
      "b\n",
      "b\n",
      "a\n"
     ]
    }
   ],
   "source": [
    "#6013 : [기초-입출력] 문자 2개 입력받아 순서 바꿔 출력하기1(py)\n",
    "a = input(\"\") \n",
    "b = input(\"\")\n",
    "print(str(b))\n",
    "print(str(a))"
   ]
  },
  {
   "cell_type": "code",
   "execution_count": 18,
   "metadata": {},
   "outputs": [
    {
     "name": "stdout",
     "output_type": "stream",
     "text": [
      "3.544\n",
      "3.544\n",
      "3.544\n",
      "3.544\n"
     ]
    }
   ],
   "source": [
    "#6014 : [기초-입출력] 실수 1개 입력받아 3번 출력하기(py)\n",
    "a = input(\"\")\n",
    "print(float(a))\n",
    "print(float(a))\n",
    "print(float(a))"
   ]
  },
  {
   "cell_type": "code",
   "execution_count": 1,
   "metadata": {},
   "outputs": [
    {
     "name": "stdout",
     "output_type": "stream",
     "text": [
      "1 2\n",
      "1\n",
      "2\n"
     ]
    }
   ],
   "source": [
    "#6015 : [기초-입출력] 정수 2개 입력받아 그대로 출력하기2(설명)(py)\n",
    "a, b = input().split()\n",
    "print(a)\n",
    "print(b)"
   ]
  },
  {
   "cell_type": "code",
   "execution_count": 2,
   "metadata": {},
   "outputs": [
    {
     "name": "stdout",
     "output_type": "stream",
     "text": [
      "1 2\n",
      "2 1\n"
     ]
    }
   ],
   "source": [
    "#6016 : [기초-입출력] 문자 2개 입력받아 순서 바꿔 출력하기2(설명)(py)\n",
    "a, b = input().split()\n",
    "print(b,a)"
   ]
  },
  {
   "cell_type": "code",
   "execution_count": 4,
   "metadata": {},
   "outputs": [
    {
     "name": "stdout",
     "output_type": "stream",
     "text": [
      "Computer\n",
      "Computer Computer Computer\n"
     ]
    }
   ],
   "source": [
    "#6017 : [기초-입출력] 문장 1개 입력받아 3번 출력하기(설명)(py)\n",
    "s = input(\"\")\n",
    "print(s, s, s)"
   ]
  },
  {
   "cell_type": "code",
   "execution_count": null,
   "metadata": {},
   "outputs": [
    {
     "name": "stdout",
     "output_type": "stream",
     "text": [
      "aszdsad\n"
     ]
    }
   ],
   "source": [
    "#6018 : [기초-입출력] 시간 입력받아 그대로 출력하기(설명)(py)\n",
    "a= input(\"\")\n",
    "print(a)\n",
    "\n",
    "#다음과 같이 작성할 수 있다.\n",
    "a, b = input().split(':')\n",
    "print(a, b, sep=':')"
   ]
  },
  {
   "cell_type": "code",
   "execution_count": 12,
   "metadata": {},
   "outputs": [
    {
     "name": "stdout",
     "output_type": "stream",
     "text": [
      "2020.04.08\n",
      "08-04-2020\n"
     ]
    }
   ],
   "source": [
    "a, b, c = input().split('.')\n",
    "print(c+\"-\"+b+\"-\"+a)"
   ]
  },
  {
   "cell_type": "code",
   "execution_count": 14,
   "metadata": {},
   "outputs": [
    {
     "name": "stdout",
     "output_type": "stream",
     "text": [
      "2222-5555\n",
      "22225555\n"
     ]
    }
   ],
   "source": [
    "#6020 : [기초-입출력] 주민번호 입력받아 형태 바꿔 출력하기(py)\n",
    "a, b = input().split('-')\n",
    "print(a+b)"
   ]
  },
  {
   "cell_type": "code",
   "execution_count": 39,
   "metadata": {},
   "outputs": [
    {
     "name": "stdout",
     "output_type": "stream",
     "text": [
      "ABC\n",
      "A\n",
      "B\n",
      "C\n"
     ]
    }
   ],
   "source": [
    "#6021 : [기초-입출력] 단어 1개 입력받아 나누어 출력하기(설명)(py)\n",
    "#https://wikidocs.net/3086 참고\n",
    "s = input(\"\")\n",
    "for i in range(0,len(s)):\n",
    "    print(s[i])"
   ]
  },
  {
   "cell_type": "code",
   "execution_count": 10,
   "metadata": {},
   "outputs": [
    {
     "name": "stdout",
     "output_type": "stream",
     "text": [
      "20222\n",
      "20 22 2\n"
     ]
    }
   ],
   "source": [
    "#6022 : [기초-입출력] 연월일 입력받아 나누어 출력하기(설명)(py)\n",
    "date = input(\"\")\n",
    "print(date[0:2],date[2:4],date[4:6]) "
   ]
  },
  {
   "cell_type": "code",
   "execution_count": 13,
   "metadata": {},
   "outputs": [
    {
     "name": "stdout",
     "output_type": "stream",
     "text": [
      "22:33:44\n",
      "33\n"
     ]
    }
   ],
   "source": [
    "#6023 : [기초-입출력] 시분초 입력받아 분만 출력하기(py)\n",
    "s = input(\"\")\n",
    "time = s.split(\":\")\n",
    "print(time[1])"
   ]
  },
  {
   "cell_type": "code",
   "execution_count": 16,
   "metadata": {},
   "outputs": [
    {
     "name": "stdout",
     "output_type": "stream",
     "text": [
      "sdas dsdasds\n",
      "sdasdsdasds\n"
     ]
    }
   ],
   "source": [
    "#6024 : [기초-입출력] 단어 2개 입력받아 이어 붙이기(설명)(py)\n",
    "s = input(\"\")\n",
    "word1,word2 = s.split(\" \")\n",
    "print(word1+word2)"
   ]
  },
  {
   "cell_type": "code",
   "execution_count": 8,
   "metadata": {},
   "outputs": [
    {
     "name": "stdout",
     "output_type": "stream",
     "text": [
      "333 -222\n",
      "111\n"
     ]
    }
   ],
   "source": [
    "#6025 : [기초-값변환] 정수 2개 입력받아 합 계산하기(설명)(py)\n",
    "s = input(\"\")\n",
    "num1,num2 = s.split(\" \")\n",
    "num3 = int(num1)+int(num2)\n",
    "print(num3)"
   ]
  },
  {
   "cell_type": "code",
   "execution_count": 12,
   "metadata": {},
   "outputs": [
    {
     "name": "stdout",
     "output_type": "stream",
     "text": [
      "0.1\n",
      "0.9\n",
      "1.0\n"
     ]
    }
   ],
   "source": [
    "#6026 : [기초-값변환] 실수 2개 입력받아 합 계산하기(설명)(py)\n",
    "s1 = input(\"\")\n",
    "s2 = input(\"\")\n",
    "s3 = float(s1)+float(s2)\n",
    "print(s3)"
   ]
  },
  {
   "cell_type": "code",
   "execution_count": 21,
   "metadata": {},
   "outputs": [
    {
     "name": "stdout",
     "output_type": "stream",
     "text": [
      "255\n",
      "ff\n"
     ]
    }
   ],
   "source": [
    "#6027 : [기초-출력변환] 10진 정수 입력받아 16진수로 출력하기1(설명)(py)\n",
    "s = int(input(\"\"))\n",
    "transform_s = '%x'%s\n",
    "print(transform_s)"
   ]
  },
  {
   "cell_type": "code",
   "execution_count": 24,
   "metadata": {},
   "outputs": [
    {
     "name": "stdout",
     "output_type": "stream",
     "text": [
      "255\n",
      "FF\n"
     ]
    }
   ],
   "source": [
    "#6028 : [기초-출력변환] 10진 정수 입력받아 16진수로 출력하기2(설명)(py)\n",
    "s=int(input(\"\"))\n",
    "print('%X'%s)"
   ]
  },
  {
   "cell_type": "code",
   "execution_count": 25,
   "metadata": {},
   "outputs": [
    {
     "name": "stdout",
     "output_type": "stream",
     "text": [
      "f\n",
      "17\n"
     ]
    }
   ],
   "source": [
    "#6029 : [기초-값변환] 16진 정수 입력받아 8진수로 출력하기(설명)(py)\n",
    "a = input(\"\")\n",
    "n = int(a,16)\n",
    "print(\"%o\"%n)"
   ]
  },
  {
   "cell_type": "code",
   "execution_count": 27,
   "metadata": {},
   "outputs": [
    {
     "name": "stdout",
     "output_type": "stream",
     "text": [
      "A\n",
      "65\n"
     ]
    }
   ],
   "source": [
    "#6030 : [기초-값변환] 영문자 1개 입력받아 10진수로 변환하기(설명)(py)\n",
    "a = input(\"\")\n",
    "print(ord(a))"
   ]
  },
  {
   "cell_type": "code",
   "execution_count": 29,
   "metadata": {},
   "outputs": [
    {
     "name": "stdout",
     "output_type": "stream",
     "text": [
      "65\n",
      "A\n"
     ]
    }
   ],
   "source": [
    "#6031 : [기초-값변환] 정수 입력받아 유니코드 문자로 변환하기(설명)(py)\n",
    "c = int(input())\n",
    "print(chr(c))"
   ]
  },
  {
   "cell_type": "code",
   "execution_count": 40,
   "metadata": {},
   "outputs": [
    {
     "name": "stdout",
     "output_type": "stream",
     "text": [
      "55\n",
      "-55\n"
     ]
    }
   ],
   "source": [
    "#6032 : [기초-산술연산] 정수 1개 입력받아 부호 바꾸기(설명)(py)\n",
    "a = int(input(\"\"))\n",
    "print(-a)"
   ]
  },
  {
   "cell_type": "code",
   "execution_count": 1,
   "metadata": {},
   "outputs": [
    {
     "name": "stdout",
     "output_type": "stream",
     "text": [
      "a\n",
      "b\n"
     ]
    }
   ],
   "source": [
    "#6033 : [기초-산술연산] 문자 1개 입력받아 다음 문자 출력하기(설명)(py)\n",
    "a = input()\n",
    "a = ord(a) +1\n",
    "print(chr(a))"
   ]
  },
  {
   "cell_type": "code",
   "execution_count": 1,
   "metadata": {},
   "outputs": [
    {
     "name": "stdout",
     "output_type": "stream",
     "text": [
      "555 -666\n",
      "1221\n"
     ]
    }
   ],
   "source": [
    "#6034 : [기초-산술연산] 정수 2개 입력받아 차 계산하기(설명)(py)\n",
    "s = input(\"\")\n",
    "num1,num2 = s.split(\" \")\n",
    "num3 = int(num1)-int(num2)\n",
    "print(num3)"
   ]
  },
  {
   "cell_type": "code",
   "execution_count": 3,
   "metadata": {},
   "outputs": [
    {
     "name": "stdout",
     "output_type": "stream",
     "text": [
      "0.5 2.0\n",
      "1.0\n"
     ]
    }
   ],
   "source": [
    "#6035 : [기초-산술연산] 실수 2개 입력받아 곱 계산하기(설명)(py)\n",
    "s = input(\"\")\n",
    "num1,num2 = s.split(\" \")\n",
    "num3 = float(num1) * float(num2)\n",
    "print(num3)"
   ]
  },
  {
   "cell_type": "code",
   "execution_count": 6,
   "metadata": {},
   "outputs": [
    {
     "name": "stdout",
     "output_type": "stream",
     "text": [
      "love 3\n",
      "lovelovelove\n"
     ]
    }
   ],
   "source": [
    "#6036 : [기초-산술연산] 단어 여러 번 출력하기(설명)(py)\n",
    "s = input(\"\")\n",
    "word,Hz = s.split(\" \")\n",
    "print(word*int(Hz))"
   ]
  },
  {
   "cell_type": "code",
   "execution_count": 8,
   "metadata": {},
   "outputs": [
    {
     "name": "stdout",
     "output_type": "stream",
     "text": [
      "3\n",
      "i love cs\n",
      "i love csi love csi love cs\n"
     ]
    }
   ],
   "source": [
    "#6037 : [기초-산술연산] 문장 여러 번 출력하기(설명)(py)\n",
    "num = input(\"\")\n",
    "word = input(\"\")\n",
    "print(word*int(num))"
   ]
  },
  {
   "cell_type": "code",
   "execution_count": 2,
   "metadata": {},
   "outputs": [
    {
     "name": "stdout",
     "output_type": "stream",
     "text": [
      "2 10\n",
      "1024\n"
     ]
    }
   ],
   "source": [
    "#6038 : [기초-산술연산] 정수 2개 입력받아 거듭제곱 계산하기(설명)(py)\n",
    "dataset = input(\"\")\n",
    "numberset, involution = dataset.split(\" \")\n",
    "print(int(numberset) ** int(involution))"
   ]
  },
  {
   "cell_type": "code",
   "execution_count": 3,
   "metadata": {},
   "outputs": [
    {
     "name": "stdout",
     "output_type": "stream",
     "text": [
      "4.0 0.5\n",
      "2.0\n"
     ]
    }
   ],
   "source": [
    "#6039 : [기초-산술연산] 실수 2개 입력받아 거듭제곱 계산하기(py)\n",
    "dataset = input(\"\")\n",
    "numberset, involution = dataset.split(\" \")\n",
    "print(float(numberset) ** float(involution))"
   ]
  },
  {
   "cell_type": "code",
   "execution_count": 4,
   "metadata": {},
   "outputs": [
    {
     "name": "stdout",
     "output_type": "stream",
     "text": [
      "10 3\n",
      "3\n"
     ]
    }
   ],
   "source": [
    "#6040 : [기초-산술연산] 정수 2개 입력받아 나눈 몫 계산하기(설명)(py)\n",
    "dataset = input(\"\")\n",
    "numberset, involution = dataset.split(\" \")\n",
    "print(int(numberset) // int(involution))"
   ]
  },
  {
   "cell_type": "code",
   "execution_count": 5,
   "metadata": {},
   "outputs": [
    {
     "name": "stdout",
     "output_type": "stream",
     "text": [
      "10 3\n",
      "1\n"
     ]
    }
   ],
   "source": [
    "#6041 : [기초-산술연산] 정수 2개 입력받아 나눈 나머지 계산하기(설명)(py)\n",
    "dataset = input(\"\")\n",
    "numberset, involution = dataset.split(\" \")\n",
    "print(int(numberset) % int(involution))"
   ]
  },
  {
   "cell_type": "code",
   "execution_count": 12,
   "metadata": {},
   "outputs": [
    {
     "name": "stdout",
     "output_type": "stream",
     "text": [
      "3.141529\n",
      "3.14\n",
      "3.14\n"
     ]
    }
   ],
   "source": [
    "#6042 : [기초-값변환] 실수 1개 입력받아 소숫점이하 자리 변환하기(설명)(py)\n",
    "dataset = input(\"\")\n",
    "print(\"{:.2f}\".format(float(dataset)))\n",
    "#print( format(float(dataset), \".2f\") )"
   ]
  },
  {
   "cell_type": "code",
   "execution_count": 13,
   "metadata": {},
   "outputs": [
    {
     "name": "stdout",
     "output_type": "stream",
     "text": [
      "10 3\n",
      "3.333\n"
     ]
    }
   ],
   "source": [
    "#6043 : [기초-산술연산] 실수 2개 입력받아 나눈 결과 계산하기(py)\n",
    "dataset = input(\"\")\n",
    "num1, num2 = dataset.split(\" \")\n",
    "num3 = float(num1) / float(num2)\n",
    "print(\"{:.3f}\".format(float(num3)))"
   ]
  },
  {
   "cell_type": "code",
   "execution_count": 26,
   "metadata": {},
   "outputs": [
    {
     "name": "stdout",
     "output_type": "stream",
     "text": [
      "19 7\n",
      "26\n",
      "12\n",
      "133\n",
      "2\n",
      "5\n",
      "2.71\n"
     ]
    }
   ],
   "source": [
    "#6044 : [기초-산술연산] 정수 2개 입력받아 자동 계산하기(py)\n",
    "dataset = input(\"\")\n",
    "num1, num2 = dataset.split(\" \")\n",
    "print(int(num1)+int(num2))\n",
    "print(int(num1)-int(num2))\n",
    "print(int(num1)*int(num2))\n",
    "print(int(int(num1)/int(num2)))\n",
    "print(int(num1)%int(num2))\n",
    "print(\"{:.2f}\".format(float(num1)/float(num2)))"
   ]
  },
  {
   "cell_type": "code",
   "execution_count": 29,
   "metadata": {},
   "outputs": [
    {
     "name": "stdout",
     "output_type": "stream",
     "text": [
      "1 2 3\n",
      "6 2.00\n"
     ]
    }
   ],
   "source": [
    "#6045 : [기초-산술연산] 정수 3개 입력받아 합과 평균 출력하기(설명)(py)\n",
    "dataset = input(\"\")\n",
    "num1, num2, num3 = dataset.split(\" \")\n",
    "sum_number = int(num1)+int(num2)+int(num3)\n",
    "average_number = \"{:.2f}\".format((int(num1)+int(num2)+int(num3))/3)\n",
    "print(sum_number, average_number)"
   ]
  },
  {
   "cell_type": "code",
   "execution_count": 35,
   "metadata": {},
   "outputs": [
    {
     "name": "stdout",
     "output_type": "stream",
     "text": [
      "10\n",
      "20\n"
     ]
    }
   ],
   "source": [
    "#6046 : [기초-비트시프트연산] 정수 1개 입력받아 2배 곱해 출력하기(설명)(py)\n",
    "dataset = input(\"\")\n",
    "print(int(dataset)<<1)\n",
    "\n",
    "# 참고\n",
    "# *2 를 계산한 값을 출력해도 되지만,\n",
    "# 정수를 2배로 곱하거나 나누어 계산해 주는 비트단위시프트연산자 <<, >>를 이용할 수 있다.\n",
    "# 컴퓨터 내부에는 2진수 형태로 값들이 저장되기 때문에,\n",
    "# 2진수 형태로 저장되어 있는 값들을 왼쪽(<<)이나 오른쪽(>>)으로\n",
    "# 지정한 비트 수만큼 밀어주면 2배씩 늘어나거나 1/2로 줄어드는데,\n",
    "\n",
    "# 왼쪽 비트시프트(<<)가 될 때에는 오른쪽에 0이 주어진 개수만큼 추가되고,\n",
    "# 오른쪽 비트시프트(>>)가 될 때에는 왼쪽에 0(0 또는 양의 정수인 경우)이나 1(음의 정수인 경우)이 개수만큼 추가되고,\n",
    "# 가장 오른쪽에 있는 1비트는 사라진다.\n",
    "\n",
    "# 예시\n",
    "# n = 10\n",
    "# print(n<<1)  #10을 2배 한 값인 20 이 출력된다.\n",
    "# print(n>>1)  #10을 반으로 나눈 값인 5 가 출력된다.\n",
    "# print(n<<2)  #10을 4배 한 값인 40 이 출력된다.\n",
    "# print(n>>2)  #10을 반으로 나눈 후 다시 반으로 나눈 값인 2 가 출력된다.\n",
    "\n",
    "# 정수 10의 2진수 표현은  1010 이다.\n",
    "# 10 << 1 을 계산하면  10100 이 된다 이 값은 10진수로 20이다.\n",
    "# 10 >> 1 을 계산하면  101 이 된다. 이 값은 10진수로 5이다.\n",
    "\n",
    "# n = 10 과 같이 키보드로 입력받지 않고 직접 작성해 넣은 코드에서, 숫자로 시작하는 단어(식별자, identifier)는 자동으로 수로 인식된다.  \n",
    "\n",
    "# n = 10 에서 10 은 10진수 정수 값으로 인식된다.\n",
    "# 변수 n 에 문자열을 저장하고 싶다면, n = \"10\" 또는 n = '10'으로 작성해 넣으면 되고,\n",
    "\n",
    "# n = 10.0 으로 작성해 넣으면 자동으로 실수 값으로 저장된다.\n",
    "# n = 0o10 으로 작성해 넣으면 8진수(octal) 10으로 인식되어 10진수 8값이 저장되고,\n",
    "# n = 0xf 나 n = 0XF 으로 작성해 넣으면 16진수(hexadecimal) F로 인식되어 10진수 15값으로 저장된다.\n",
    "\n",
    "# ** python에서 실수 값에 대한 비트시프트 연산은 허용되지 않고 오류가 발생한다.\n",
    "# (실수 값도 컴퓨터 내부적으로는 2진수 형태로 저장되고 비트시프트 처리가 될 수 있지만, python 에서는 허용하지 않는다.)\n"
   ]
  },
  {
   "cell_type": "code",
   "execution_count": 2,
   "metadata": {},
   "outputs": [
    {
     "name": "stdout",
     "output_type": "stream",
     "text": [
      "1 3\n",
      "8\n"
     ]
    }
   ],
   "source": [
    "#6047 : [기초-비트시프트연산] 2의 거듭제곱 배로 곱해 출력하기(설명)(py)\n",
    "dataset = input(\"\")\n",
    "num1, num2 = dataset.split(\" \")\n",
    "num3 = int(num1) * (2 ** int(num2))\n",
    "print(num3)"
   ]
  },
  {
   "cell_type": "code",
   "execution_count": 11,
   "metadata": {},
   "outputs": [
    {
     "name": "stdout",
     "output_type": "stream",
     "text": [
      "10 3\n",
      "False\n"
     ]
    }
   ],
   "source": [
    "#6048 : [기초-비교연산] 정수 2개 입력받아 비교하기1(설명)(py)\n",
    "dataset = input(\"\")\n",
    "num1, num2 = dataset.split(\" \")\n",
    "num1 = int(num1)\n",
    "num2 = int(num2)\n",
    "if num1 < num2:\n",
    "    print(bool(num1 < num2))\n",
    "elif num1 >= num2:\n",
    "    print(bool(num1 < num2))"
   ]
  },
  {
   "cell_type": "code",
   "execution_count": 14,
   "metadata": {},
   "outputs": [
    {
     "name": "stdout",
     "output_type": "stream",
     "text": [
      "1 2\n",
      "False\n"
     ]
    }
   ],
   "source": [
    "#6049 : [기초-비교연산] 정수 2개 입력받아 비교하기2(설명)(py)\n",
    "dataset = input(\"\")\n",
    "num1, num2 = dataset.split(\" \")\n",
    "num1 = int(num1)\n",
    "num2 = int(num2)\n",
    "if num1 == num2:\n",
    "    print(bool(num1 == num2))\n",
    "else:\n",
    "    print(bool(num1 == num2))"
   ]
  },
  {
   "cell_type": "code",
   "execution_count": 19,
   "metadata": {},
   "outputs": [
    {
     "name": "stdout",
     "output_type": "stream",
     "text": [
      "3 1\n",
      "False\n"
     ]
    }
   ],
   "source": [
    "#6050 : [기초-비교연산] 정수 2개 입력받아 비교하기3(설명)(py)\n",
    "dataset = input(\"\")\n",
    "num1, num2 = dataset.split(\" \")\n",
    "num1 = int(num1)\n",
    "num2 = int(num2)\n",
    "if num1 <= num2:\n",
    "    print(True)\n",
    "elif num1 > num2:\n",
    "    print(False)"
   ]
  },
  {
   "cell_type": "code",
   "execution_count": 20,
   "metadata": {},
   "outputs": [
    {
     "name": "stdout",
     "output_type": "stream",
     "text": [
      "0 1\n",
      "True\n"
     ]
    }
   ],
   "source": [
    "#6051 : [기초-비교연산] 정수 2개 입력받아 비교하기4(설명)(py)\n",
    "dataset = input(\"\")\n",
    "num1, num2 = dataset.split(\" \")\n",
    "num1 = int(num1)\n",
    "num2 = int(num2)\n",
    "if num1 != num2:\n",
    "    print(True)\n",
    "else:\n",
    "    print(False)"
   ]
  },
  {
   "cell_type": "code",
   "execution_count": 24,
   "metadata": {},
   "outputs": [
    {
     "name": "stdout",
     "output_type": "stream",
     "text": [
      "0\n",
      "False\n"
     ]
    }
   ],
   "source": [
    "#6052 : [기초-논리연산] 정수 입력받아 참 거짓 평가하기(설명)(py)\n",
    "dataset = int(input(\"\"))\n",
    "if dataset == 0:\n",
    "    print(False)\n",
    "else:\n",
    "    print(True)"
   ]
  },
  {
   "cell_type": "code",
   "execution_count": 4,
   "metadata": {},
   "outputs": [
    {
     "name": "stdout",
     "output_type": "stream",
     "text": [
      "1\n",
      "False\n"
     ]
    }
   ],
   "source": [
    "#6053 : [기초-논리연산] 참 거짓 바꾸기(설명)(py)\n",
    "#입력된 정수의 불 값이 False 이면 True, True 이면 False 를 출력한다.\n",
    "a = bool(int(input()))\n",
    "print(not a)"
   ]
  },
  {
   "cell_type": "code",
   "execution_count": 1,
   "metadata": {},
   "outputs": [
    {
     "name": "stdout",
     "output_type": "stream",
     "text": [
      "1 1\n",
      "True\n"
     ]
    }
   ],
   "source": [
    "#6054 : [기초-논리연산] 둘 다 참일 경우만 참 출력하기(설명)(py)\n",
    "a, b = input().split()\n",
    "print(bool(int(a)) and bool(int(b)))\n",
    "\n",
    "# 참고\n",
    "# and 예약어는 주어진 두 불 값이 모두 True 일 때에만 True 로 계산하고, 나머지 경우는 False 로 계산한다.\n",
    "# 이러한 논리연산을 AND 연산(boolean AND)이라고도 부르고, · 으로 표시하거나 생략하며, 집합 기호 ∩(교집합, intersection)로 표시하기도 한다. \n",
    "# 모두 같은 의미이다.\n",
    "\n",
    "# 참, 거짓의 논리값 인 불(boolean) 값을 다루어주는 예약어는 not, and, or 이 있고,\n",
    "# 불 값들 사이의 논리(not, and, or) 연산 결과도 마찬가지로 True 또는 False 의 불 값으로 계산된다.\n",
    "\n",
    "# ** 불 대수(boolean algebra)는 수학자 불이 만들어낸 것으로 True(참)/False(거짓) 값만 가지는 논리값과 그 값들 사이의 연산을 다룬다."
   ]
  },
  {
   "cell_type": "code",
   "execution_count": null,
   "metadata": {},
   "outputs": [],
   "source": [
    "#6055 : [기초-논리연산] 하나라도 참이면 참 출력하기(설명)(py)\n",
    "a, b = input().split()\n",
    "print(bool(int(a)) or bool(int(b)))"
   ]
  },
  {
   "cell_type": "code",
   "execution_count": 2,
   "metadata": {},
   "outputs": [
    {
     "name": "stdout",
     "output_type": "stream",
     "text": [
      "1 0\n",
      "True\n"
     ]
    }
   ],
   "source": [
    "#6056 : [기초-논리연산] 참/거짓이 서로 다를 때에만 참 출력하기(설명)(py)\n",
    "a, b = input().split()\n",
    "print(bool(int(a)) != bool(int(b)))"
   ]
  },
  {
   "cell_type": "code",
   "execution_count": 3,
   "metadata": {},
   "outputs": [
    {
     "name": "stdout",
     "output_type": "stream",
     "text": [
      "1 1\n",
      "True\n"
     ]
    }
   ],
   "source": [
    "#6057 : [기초-논리연산] 참/거짓이 서로 같을 때에만 참 출력하기(설명)(py)\n",
    "a, b = input().split()\n",
    "print(bool(int(a)) == bool(int(b)))"
   ]
  },
  {
   "cell_type": "code",
   "execution_count": 12,
   "metadata": {},
   "outputs": [
    {
     "name": "stdout",
     "output_type": "stream",
     "text": [
      "1 0\n",
      "False\n"
     ]
    }
   ],
   "source": [
    "#6058 : [기초-논리연산] 둘 다 거짓일 경우만 참 출력하기(py)\n",
    "a, b = input().split()\n",
    "print(not(bool(int(a)) or bool(int(b))))"
   ]
  },
  {
   "cell_type": "code",
   "execution_count": 14,
   "metadata": {},
   "outputs": [
    {
     "name": "stdout",
     "output_type": "stream",
     "text": [
      "3\n",
      "-4\n"
     ]
    }
   ],
   "source": [
    "#6059 : [기초-비트단위논리연산] 비트단위로 NOT 하여 출력하기(설명)(py)\n",
    "a = int(input())\n",
    "print(~a)"
   ]
  },
  {
   "cell_type": "code",
   "execution_count": 31,
   "metadata": {},
   "outputs": [
    {
     "name": "stdout",
     "output_type": "stream",
     "text": [
      "3 5\n",
      "1\n"
     ]
    }
   ],
   "source": [
    "#6060 : [기초-비트단위논리연산] 비트단위로 AND 하여 출력하기(설명)(py)\n",
    "a, b = input().split()\n",
    "a = int(a)\n",
    "b = int(b)\n",
    "print(a & b)"
   ]
  },
  {
   "cell_type": "code",
   "execution_count": 35,
   "metadata": {},
   "outputs": [
    {
     "name": "stdout",
     "output_type": "stream",
     "text": [
      "3 5\n",
      "7\n"
     ]
    }
   ],
   "source": [
    "#6061 : [기초-비트단위논리연산] 비트단위로 OR 하여 출력하기(설명)(py)\n",
    "a, b = input().split()\n",
    "a = int(a)\n",
    "b = int(b)\n",
    "print(a | b)"
   ]
  },
  {
   "cell_type": "code",
   "execution_count": 43,
   "metadata": {},
   "outputs": [
    {
     "name": "stdout",
     "output_type": "stream",
     "text": [
      "3 5\n",
      "6\n"
     ]
    }
   ],
   "source": [
    "#6062 : [기초-비트단위논리연산] 비트단위로 XOR 하여 출력하기(설명)(py)\n",
    "a, b = input().split()\n",
    "a = int(a)\n",
    "b = int(b)\n",
    "print(a ^ b)"
   ]
  },
  {
   "cell_type": "code",
   "execution_count": 44,
   "metadata": {},
   "outputs": [
    {
     "name": "stdout",
     "output_type": "stream",
     "text": [
      "1 2\n",
      "2\n"
     ]
    }
   ],
   "source": [
    "#6063 : [기초-3항연산] 정수 2개 입력받아 큰 값 출력하기(설명)(py)\n",
    "a, b = input().split()\n",
    "a = int(a)\n",
    "b = int(b)\n",
    "if a>b:\n",
    "    print(a)\n",
    "else:\n",
    "    print(b)"
   ]
  },
  {
   "cell_type": "code",
   "execution_count": 49,
   "metadata": {},
   "outputs": [
    {
     "name": "stdout",
     "output_type": "stream",
     "text": [
      "1 2 3\n",
      "1\n"
     ]
    }
   ],
   "source": [
    "#6064 : [기초-3항연산] 정수 3개 입력받아 가장 작은 값 출력하기(설명)(py)\n",
    "#참고 https://blueshw.github.io/2016/01/22/python-conditional-ternary-operator/\n",
    "a, b, c = input().split()\n",
    "a = int(a)\n",
    "b = int(b)\n",
    "c = int(c)\n",
    "print( (a if a<b else b) if ((a if a<b else b)<c) else c   )"
   ]
  },
  {
   "cell_type": "code",
   "execution_count": 50,
   "metadata": {},
   "outputs": [
    {
     "name": "stdout",
     "output_type": "stream",
     "text": [
      "2 4 5\n",
      "2\n",
      "4\n"
     ]
    }
   ],
   "source": [
    "#6065 : [기초-조건/선택실행구조] 정수 3개 입력받아 짝수만 출력하기(설명)(py)\n",
    "a, b, c = input().split()\n",
    "a = int(a)\n",
    "b = int(b)\n",
    "c = int(c)\n",
    "if a%2==0 :\n",
    "    print(a)\n",
    "if b%2==0 :\n",
    "    print(b)\n",
    "if c%2==0 :\n",
    "    print(c)"
   ]
  },
  {
   "cell_type": "code",
   "execution_count": 52,
   "metadata": {},
   "outputs": [
    {
     "name": "stdout",
     "output_type": "stream",
     "text": [
      "2 4 5\n",
      "even\n",
      "4\n",
      "odd\n"
     ]
    }
   ],
   "source": [
    "#6066 : [기초-조건/선택실행구조] 정수 3개 입력받아 짝/홀 출력하기(설명)(py)\n",
    "a, b, c = input().split()\n",
    "a = int(a)\n",
    "b = int(b)\n",
    "c = int(c)\n",
    "if a%2==0 :\n",
    "    print(\"even\")\n",
    "else:\n",
    "    print(\"odd\")\n",
    "    \n",
    "if b%2==0 :\n",
    "    print(\"even\")\n",
    "else:\n",
    "    print(\"odd\")\n",
    "    \n",
    "if c%2==0 :\n",
    "    print(\"even\")\n",
    "else:\n",
    "    print(\"odd\")"
   ]
  },
  {
   "cell_type": "code",
   "execution_count": 53,
   "metadata": {},
   "outputs": [
    {
     "name": "stdout",
     "output_type": "stream",
     "text": [
      "22\n",
      "C\n"
     ]
    }
   ],
   "source": [
    "#6067 : [기초-조건/선택실행구조] 정수 1개 입력받아 분류하기(설명)(py)\n",
    "a = int(input())\n",
    "if a%2==0:\n",
    "    if a<0:\n",
    "        print(\"A\")\n",
    "    else:\n",
    "        print(\"C\")\n",
    "else:\n",
    "    if a<0:\n",
    "        print(\"B\")\n",
    "    else:\n",
    "        print(\"D\")"
   ]
  },
  {
   "cell_type": "code",
   "execution_count": 55,
   "metadata": {},
   "outputs": [
    {
     "name": "stdout",
     "output_type": "stream",
     "text": [
      "55\n",
      "C\n"
     ]
    }
   ],
   "source": [
    "#6068 : [기초-조건/선택실행구조] 점수 입력받아 평가 출력하기(설명)(py)\n",
    "a = int(input())\n",
    "if a>=90:\n",
    "    print(\"A\")\n",
    "elif a>=70 and a < 90:\n",
    "    print(\"B\")\n",
    "elif a>=40 and a < 70:\n",
    "    print(\"C\")\n",
    "elif a>=0 and a < 40:\n",
    "    print(\"D\")"
   ]
  },
  {
   "cell_type": "code",
   "execution_count": 56,
   "metadata": {},
   "outputs": [
    {
     "name": "stdout",
     "output_type": "stream",
     "text": [
      "A\n",
      "best!!!\n"
     ]
    }
   ],
   "source": [
    "#6069 : [기초-조건/선택실행구조] 평가 입력받아 다르게 출력하기(py)\n",
    "a = input(\"\")\n",
    "if a == \"A\":\n",
    "    print(\"best!!!\")\n",
    "elif a == \"B\":\n",
    "    print(\"good!!\")\n",
    "elif a == \"C\":\n",
    "    print(\"run!\")\n",
    "elif a == \"D\":\n",
    "    print(\"slowly~\")\n",
    "else:\n",
    "    print(\"what?\")"
   ]
  },
  {
   "cell_type": "code",
   "execution_count": 57,
   "metadata": {},
   "outputs": [
    {
     "name": "stdout",
     "output_type": "stream",
     "text": [
      "9\n",
      "fall\n"
     ]
    }
   ],
   "source": [
    "#6070 : [기초-조건/선택실행구조] 월 입력받아 계절 출력하기(설명)(py)\n",
    "a = int(input())\n",
    "if a//3==1 :\n",
    "    print(\"spring\")\n",
    "elif a//3==2 :\n",
    "    print(\"summer\")\n",
    "elif a//3==3:\n",
    "    print(\"fall\")\n",
    "else:\n",
    "    print(\"winter\")"
   ]
  },
  {
   "cell_type": "code",
   "execution_count": 61,
   "metadata": {},
   "outputs": [
    {
     "name": "stdout",
     "output_type": "stream",
     "text": [
      "2\n",
      "2\n",
      "3\n",
      "3\n",
      "0\n"
     ]
    }
   ],
   "source": [
    "#6071 : [기초-반복실행구조] 0 입력될 때까지 무한 출력하기(설명)(py)\n",
    "a = 1\n",
    "while(a != 0):\n",
    "    a = int(input())\n",
    "    if a != 0:\n",
    "        print(a)\n",
    "    elif a == 0:\n",
    "        break"
   ]
  },
  {
   "cell_type": "code",
   "execution_count": 62,
   "metadata": {},
   "outputs": [
    {
     "name": "stdout",
     "output_type": "stream",
     "text": [
      "5\n",
      "5\n",
      "4\n",
      "3\n",
      "2\n",
      "1\n"
     ]
    }
   ],
   "source": [
    "#6072 : [기초-반복실행구조] 정수 1개 입력받아 카운트다운 출력하기1(설명)(py)\n",
    "a = int(input())\n",
    "while(a!=0):\n",
    "    print(a)\n",
    "    a = a-1"
   ]
  },
  {
   "cell_type": "code",
   "execution_count": 65,
   "metadata": {},
   "outputs": [
    {
     "name": "stdout",
     "output_type": "stream",
     "text": [
      "5\n",
      "4\n",
      "3\n",
      "2\n",
      "1\n",
      "0\n"
     ]
    }
   ],
   "source": [
    "#6073 : [기초-반복실행구조] 정수 1개 입력받아 카운트다운 출력하기2(py)\n",
    "a = int(input())\n",
    "while(a!=0):\n",
    "    a = a-1\n",
    "    print(a)"
   ]
  },
  {
   "cell_type": "code",
   "execution_count": 78,
   "metadata": {},
   "outputs": [
    {
     "name": "stdout",
     "output_type": "stream",
     "text": [
      "f\n",
      "a b c d e f "
     ]
    }
   ],
   "source": [
    "#6074 : [기초-반복실행구조] 문자 1개 입력받아 알파벳 출력하기(설명)(py)\n",
    "a = ord(input())\n",
    "i = ord(\"a\")\n",
    "while(i != a+1):\n",
    "    print(chr(i)+ \" \", end='')\n",
    "    i += 1\n",
    "    \n",
    "# 참고\n",
    "# 알파벳 문자 a의 정수값은 ord('a')로 알아낼 수 있다.\n",
    "# chr(정수값)을 이용하면 유니코드 문자로 출력할 수 있다.\n",
    "# print(..., end=' ') 와 같이 작성하면 값 출력 후 공백문자 ' '를 출력한다. 즉, 마지막에 줄을 바꾸지 않고 빈칸만 띄운다.\n",
    "# (end='\\n'로 작성하거나 생략하면, 값을 출력한 후 마지막(end)에 줄바꿈(newline)이 된다.)"
   ]
  },
  {
   "cell_type": "code",
   "execution_count": 80,
   "metadata": {},
   "outputs": [
    {
     "name": "stdout",
     "output_type": "stream",
     "text": [
      "4\n",
      "0\n",
      "1\n",
      "2\n",
      "3\n",
      "4\n"
     ]
    }
   ],
   "source": [
    "#6075 : [기초-반복실행구조] 정수 1개 입력받아 그 수까지 출력하기1(py)\n",
    "a = int(input())\n",
    "i = 0 \n",
    "while(i != a+1):\n",
    "    print(i)\n",
    "    i += 1"
   ]
  },
  {
   "cell_type": "code",
   "execution_count": 81,
   "metadata": {},
   "outputs": [
    {
     "name": "stdout",
     "output_type": "stream",
     "text": [
      "5\n",
      "0\n",
      "1\n",
      "2\n",
      "3\n",
      "4\n",
      "5\n"
     ]
    }
   ],
   "source": [
    "#6076 : [기초-반복실행구조] 정수 1개 입력받아 그 수까지 출력하기2(설명)(py)\n",
    "a = int(input())\n",
    "for i in range(a+1):\n",
    "    print(i)\n",
    "    \n",
    "# 참고\n",
    "# range(n) 은 0, 1, 2, ... , n-2, n-1 까지의 수열을 의미한다.\n",
    "# 예를 들어 range(3) 은 0, 1, 2 인 수열을 의미한다.\n",
    "\n",
    "# for i in range(n) :    #range(n)에 들어있는(in) 각각의 수에 대해서(for) 순서대로 i에 저장해 가면서...\n",
    "# 이때의 for는 각각의 값에 대하여... 라는 for each 의 의미를 가진다고 생각할 수 있다.\n",
    "\n",
    "# range(끝)\n",
    "# range(시작, 끝)\n",
    "# range(시작, 끝, 증감)\n",
    "# 형태로 수열을 표현할 수 있다. 시작 수는 포함이고, 끝 수는 포함되지 않는다. [시작, 끝)\n",
    "# 증감할 수를 작성하지 않으면 +1이 된다.\n",
    "\n",
    "# 반복 실행구조에 반복 횟수를 기록/저장하는 변수로 i를 자주 사용하는데,\n",
    "# i 는 반복자(iterator)를 나타내는 i라고 생각할 수 있다. i, j, k ... 알파벳 순으로 사용하기도 한다."
   ]
  },
  {
   "cell_type": "code",
   "execution_count": 90,
   "metadata": {},
   "outputs": [
    {
     "name": "stdout",
     "output_type": "stream",
     "text": [
      "4\n",
      "6\n"
     ]
    }
   ],
   "source": [
    "#6077 : [기초-종합] 짝수 합 구하기(설명)(py)\n",
    "a = int(input())\n",
    "sum = 0\n",
    "for i in range(1,a+1):\n",
    "    if i % 2 == 0:\n",
    "        sum +=i\n",
    "print(sum)"
   ]
  },
  {
   "cell_type": "code",
   "execution_count": 94,
   "metadata": {},
   "outputs": [
    {
     "name": "stdout",
     "output_type": "stream",
     "text": [
      "a\n",
      "a\n",
      "s\n",
      "s\n",
      "d\n",
      "d\n",
      "q\n",
      "q\n"
     ]
    }
   ],
   "source": [
    "#6078 : [기초-종합] 원하는 문자가 입력될 때까지 반복 출력하기(py)\n",
    "a = 1\n",
    "while(a != \"q\"):\n",
    "    a = input(\"\")\n",
    "    print(a)"
   ]
  },
  {
   "cell_type": "code",
   "execution_count": 98,
   "metadata": {},
   "outputs": [
    {
     "name": "stdout",
     "output_type": "stream",
     "text": [
      "2\n",
      "1\n"
     ]
    }
   ],
   "source": [
    "#6079 : [기초-종합] 언제까지 더해야 할까?(py)\n",
    "a = int(input())\n",
    "sum = 0 \n",
    "for i in range(1, a):\n",
    "    if sum >= a:\n",
    "        break\n",
    "    else:\n",
    "        sum += i\n",
    "        i += 1\n",
    "print(i-1)"
   ]
  },
  {
   "cell_type": "code",
   "execution_count": 101,
   "metadata": {},
   "outputs": [
    {
     "name": "stdout",
     "output_type": "stream",
     "text": [
      "5 6\n",
      "1 1\n",
      "1 2\n",
      "1 3\n",
      "1 4\n",
      "1 5\n",
      "1 6\n",
      "2 1\n",
      "2 2\n",
      "2 3\n",
      "2 4\n",
      "2 5\n",
      "2 6\n",
      "3 1\n",
      "3 2\n",
      "3 3\n",
      "3 4\n",
      "3 5\n",
      "3 6\n",
      "4 1\n",
      "4 2\n",
      "4 3\n",
      "4 4\n",
      "4 5\n",
      "4 6\n",
      "5 1\n",
      "5 2\n",
      "5 3\n",
      "5 4\n",
      "5 5\n",
      "5 6\n"
     ]
    }
   ],
   "source": [
    "#6080 : [기초-종합] 주사위 2개 던지기(설명)(py)\n",
    "a, b = input().split()\n",
    "a = int(a)\n",
    "b = int(b)\n",
    "for i in range(1,a+1):\n",
    "    for j in range(1,b+1):\n",
    "        print(i,j)"
   ]
  },
  {
   "cell_type": "code",
   "execution_count": 1,
   "metadata": {},
   "outputs": [
    {
     "name": "stdout",
     "output_type": "stream",
     "text": [
      "B\n"
     ]
    },
    {
     "ename": "TypeError",
     "evalue": "'str' object cannot be interpreted as an integer",
     "output_type": "error",
     "traceback": [
      "\u001b[1;31m---------------------------------------------------------------------------\u001b[0m",
      "\u001b[1;31mTypeError\u001b[0m                                 Traceback (most recent call last)",
      "\u001b[1;32m<ipython-input-1-b2aa95e2e0bb>\u001b[0m in \u001b[0;36m<module>\u001b[1;34m\u001b[0m\n\u001b[0;32m      1\u001b[0m \u001b[1;31m#6081 : [기초-종합] 16진수 구구단 출력하기(py)\u001b[0m\u001b[1;33m\u001b[0m\u001b[1;33m\u001b[0m\u001b[1;33m\u001b[0m\u001b[0m\n\u001b[1;32m----> 2\u001b[1;33m \u001b[0ma\u001b[0m \u001b[1;33m=\u001b[0m \u001b[0mhex\u001b[0m\u001b[1;33m(\u001b[0m\u001b[0minput\u001b[0m\u001b[1;33m(\u001b[0m\u001b[1;33m)\u001b[0m\u001b[1;33m)\u001b[0m\u001b[1;33m\u001b[0m\u001b[1;33m\u001b[0m\u001b[0m\n\u001b[0m\u001b[0;32m      3\u001b[0m \u001b[1;32mfor\u001b[0m \u001b[0mi\u001b[0m \u001b[1;32min\u001b[0m \u001b[0mrange\u001b[0m \u001b[1;33m(\u001b[0m\u001b[1;36m1\u001b[0m\u001b[1;33m,\u001b[0m \u001b[0ma\u001b[0m\u001b[1;33m+\u001b[0m\u001b[1;36m1\u001b[0m\u001b[1;33m)\u001b[0m\u001b[1;33m:\u001b[0m\u001b[1;33m\u001b[0m\u001b[1;33m\u001b[0m\u001b[0m\n\u001b[0;32m      4\u001b[0m     \u001b[0mprint\u001b[0m\u001b[1;33m(\u001b[0m\u001b[0mformat\u001b[0m\u001b[1;33m(\u001b[0m\u001b[1;34m'%X'\u001b[0m\u001b[1;33m%\u001b[0m\u001b[0ma\u001b[0m \u001b[1;33m+\u001b[0m \u001b[1;34m'*'\u001b[0m \u001b[1;33m+\u001b[0m \u001b[1;34m'%X'\u001b[0m\u001b[1;33m%\u001b[0m\u001b[0mi\u001b[0m \u001b[1;33m+\u001b[0m \u001b[1;34m'='\u001b[0m \u001b[1;33m+\u001b[0m \u001b[1;34m'%X'\u001b[0m\u001b[1;33m%\u001b[0m\u001b[1;33m(\u001b[0m\u001b[0ma\u001b[0m\u001b[1;33m*\u001b[0m\u001b[0mi\u001b[0m\u001b[1;33m)\u001b[0m\u001b[1;33m)\u001b[0m\u001b[1;33m)\u001b[0m\u001b[1;33m\u001b[0m\u001b[1;33m\u001b[0m\u001b[0m\n",
      "\u001b[1;31mTypeError\u001b[0m: 'str' object cannot be interpreted as an integer"
     ]
    }
   ],
   "source": [
    "#6081 : [기초-종합] 16진수 구구단 출력하기(py)\n",
    "a = hex(input())\n",
    "for i in range (1, a+1):\n",
    "    print(format('%X'%a + '*' + '%X'%i + '=' + '%X'%(a*i)))"
   ]
  },
  {
   "cell_type": "code",
   "execution_count": null,
   "metadata": {},
   "outputs": [],
   "source": []
  },
  {
   "cell_type": "code",
   "execution_count": null,
   "metadata": {},
   "outputs": [],
   "source": []
  },
  {
   "cell_type": "code",
   "execution_count": null,
   "metadata": {},
   "outputs": [],
   "source": []
  }
 ],
 "metadata": {
  "kernelspec": {
   "display_name": "Python 3",
   "language": "python",
   "name": "python3"
  },
  "language_info": {
   "codemirror_mode": {
    "name": "ipython",
    "version": 3
   },
   "file_extension": ".py",
   "mimetype": "text/x-python",
   "name": "python",
   "nbconvert_exporter": "python",
   "pygments_lexer": "ipython3",
   "version": "3.8.8"
  }
 },
 "nbformat": 4,
 "nbformat_minor": 4
}
